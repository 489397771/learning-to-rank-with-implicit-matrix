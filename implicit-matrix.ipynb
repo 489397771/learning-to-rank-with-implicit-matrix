{
 "cells": [
  {
   "cell_type": "code",
   "execution_count": null,
   "metadata": {
    "collapsed": true
   },
   "outputs": [],
   "source": [
    "import scipy as sp\n",
    "import numpy as np\n",
    "import pandas as pd\n",
    "import time\n",
    "import lightfm.evaluation\n",
    "from lightfm import LightFM\n",
    "from implicit.als import AlternatingLeastSquares\n",
    "import sklearn.metrics\n",
    "import math\n",
    "import random"
   ]
  },
  {
   "cell_type": "code",
   "execution_count": 3,
   "metadata": {},
   "outputs": [],
   "source": [
    "data = pd.read_table(\"/mnt/data/lastfm/360k/lastfm-dataset-360K/usersha1-artmbid-artname-plays.tsv\", \n",
    "                         usecols=[0, 2, 3], \n",
    "                         names=['user', 'artist', 'plays'],na_filter=False)\n",
    "data['user'] = data['user'].astype(\"category\")\n",
    "data['artist'] = data['artist'].astype(\"category\")\n",
    "plays = sp.sparse.coo_matrix((data['plays'].astype(float), \n",
    "                   (data['user'].cat.codes,\n",
    "                    data['artist'].cat.codes)), dtype = np.double)"
   ]
  },
  {
   "cell_type": "code",
   "execution_count": 86,
   "metadata": {
    "collapsed": true
   },
   "outputs": [],
   "source": [
    "#small_data = pd.read_csv('/mnt/data/lastfm/2k/user_artists.dat', sep = '\\t')\n",
    "#plays = sp.sparse.coo_matrix((small_data['weight'].astype(float), \n",
    "#                                             (small_data['userID'], \n",
    "#                                              small_data['artistID'])))"
   ]
  },
  {
   "cell_type": "code",
   "execution_count": 77,
   "metadata": {
    "collapsed": true
   },
   "outputs": [],
   "source": [
    "def split_train_test(plays, train_rate = 0.8):\n",
    "    user_index = range(plays.shape[0])\n",
    "    train = plays.copy().tolil()\n",
    "    test = sp.sparse.lil_matrix(plays.shape)\n",
    "    \n",
    "    min_rows = int(1/(1 - train_rate))\n",
    "    for uindex in user_index:\n",
    "        rows = plays.getrow(uindex).indices\n",
    "        if len(rows) <= min_rows:\n",
    "            continue\n",
    "        testindics = np.random.choice(plays.getrow(uindex).indices, \n",
    "                                        size=int(len(rows) * (1 - train_rate)), \n",
    "                                        replace=False)\n",
    "        train[uindex, testindics] = 0.\n",
    "        test[uindex, testindics] = plays[uindex, testindics]\n",
    "    \n",
    "    train = train.tocsr()\n",
    "    train.eliminate_zeros()\n",
    "    return train, test.tocsr()\n",
    "\n",
    "def train_pair_wise_model_and_evaluate(train, test = None, factors = 50, epochs = 100, learning_rate = 0.05, loss = 'bpr', eva = True):\n",
    "    tic = time.time()\n",
    "    model = LightFM(no_components = factors, learning_rate=learning_rate, loss=loss)\n",
    "    model.fit(train, epochs=epochs, num_threads = 2)\n",
    "    toc = time.time()\n",
    "    print(\"LightFM training cost %.2f seconds\" % (toc - tic))\n",
    "    \n",
    "    if test is not None and eva:\n",
    "        eva_test = lightfm.evaluation.auc_score(model, test, num_threads = 2)\n",
    "        print(\"User auc mean = %.2f, std = %.2f (on testing dataset)\" % (eva_test.mean(), eva_test.std()))\n",
    "    \n",
    "    return model"
   ]
  },
  {
   "cell_type": "code",
   "execution_count": 68,
   "metadata": {
    "collapsed": true
   },
   "outputs": [],
   "source": [
    "train_mat, test_mat = split_train_test(plays.tocsr())"
   ]
  },
  {
   "cell_type": "code",
   "execution_count": 67,
   "metadata": {
    "scrolled": true
   },
   "outputs": [
    {
     "name": "stdout",
     "output_type": "stream",
     "text": [
      "LightFM training cost 0.58 seconds\n",
      "User auc mean = 0.77, std = 0.17 (on testing dataset)\n"
     ]
    }
   ],
   "source": [
    "model = train_pair_wise_model_and_evaluate(train_mat, test = test_mat)"
   ]
  },
  {
   "cell_type": "code",
   "execution_count": 169,
   "metadata": {
    "collapsed": true
   },
   "outputs": [],
   "source": [
    "def generate_hot_item_list(plays, top = 1000):\n",
    "    item_indexs, item_counts = np.unique(plays.col, return_counts = True)\n",
    "    items_played_count = filter(lambda item_pair: item_pair[1] > 10, list(zip(item_indexs, item_counts)))\n",
    "    \n",
    "    return sorted(list(items_played_count), key = lambda i:i[1], reverse = True)[: top]"
   ]
  },
  {
   "cell_type": "markdown",
   "metadata": {},
   "source": [
    "为一个指定的用户产生负样本。产生的方式是：\n",
    "\n",
    "1. 从热门Item中去掉用户已收听的Item\n",
    "2. 按照热门程度加权采样"
   ]
  },
  {
   "cell_type": "code",
   "execution_count": null,
   "metadata": {
    "collapsed": true
   },
   "outputs": [],
   "source": [
    "def weighted_sampling(sequence, k):\n",
    "    \"\"\"\n",
    "    parameters:\n",
    "    \n",
    "    sequence -- list-like [(item1, weight1), ...]\n",
    "    \n",
    "    k -- number of selected items\n",
    "    \n",
    "    return:\n",
    "    \n",
    "    list that selected.\n",
    "    \"\"\"\n",
    "    \n",
    "    weighted_list = []\n",
    "    for elements in sequence:\n",
    "        weighted_list.append((elements[0], random.expovariate(elements[1])))\n",
    "    \n",
    "    return sorted(weighted_list, key = lambda x : x[1])[:k]"
   ]
  },
  {
   "cell_type": "code",
   "execution_count": 7,
   "metadata": {
    "collapsed": true
   },
   "outputs": [],
   "source": [
    "def generate_negative_samples(uindex, plays, hot_items, negative_count = 5):\n",
    "    history = set(plays.getrow(2).indices)\n",
    "    candidates = []\n",
    "    for (item, weight) in hot_items:\n",
    "        if item in history:\n",
    "            continue\n",
    "        candidates.append((item, weight))\n",
    "    if negative_count > len(candidates):\n",
    "        negative_count = len(candidates)\n",
    "    return weighted_sampling(candidates, negative_count)\n",
    "\n",
    "#negative_samples = generate_negative_samples(2, plays.tocsr(), hot_items, 50)"
   ]
  },
  {
   "cell_type": "code",
   "execution_count": 6,
   "metadata": {
    "collapsed": true
   },
   "outputs": [],
   "source": [
    "def evaluate_point_wise_model(model, plays, test, num_test_users = -1):\n",
    "    hot_items = generate_hot_item_list(test_mat.tocoo())\n",
    "    user_indexes = range(plays.shape[0])\n",
    "    aucs = []\n",
    "    if num_test_users > 0:\n",
    "        user_indexes = np.random.choice(user_indexes, num_test_users)\n",
    "    for uindex in user_indexes:\n",
    "        positive_samples = test_mat.tocsr().getrow(uindex).indices\n",
    "        negative_samples = generate_negative_samples(uindex, plays.tocsr(), hot_items, len(positive_samples))\n",
    "        if len(negative_samples) == 0:\n",
    "            continue\n",
    "        user_factor = model.user_factors[uindex].reshape((1, model.factors))\n",
    "        user_samples = np.concatenate((positive_samples,  negative_samples), axis = 0)\n",
    "        user_feedback = np.concatenate((np.full(len(positive_samples), 1), np.full(len(negative_samples), 0)), axis = 0)\n",
    "        item_factors = model.item_factors[user_samples]\n",
    "        scores = np.dot(user_factor, item_factors.transpose()).reshape(len(user_feedback))\n",
    "        fpr, tpr, thresholds = sklearn.metrics.roc_curve(user_feedback, scores, pos_label=1)\n",
    "        auc = sklearn.metrics.auc(fpr, tpr)\n",
    "        aucs.append(auc)\n",
    "    return np.array(aucs)"
   ]
  },
  {
   "cell_type": "code",
   "execution_count": 5,
   "metadata": {
    "collapsed": true
   },
   "outputs": [],
   "source": [
    "def train_point_wise_model_and_evaluate(train, plays = None, test = None, factors = 100, epochs = 100, learning_rate = 0.05,num_test_users = -1, eva = True):\n",
    "    tic = time.time()\n",
    "    model = AlternatingLeastSquares(factors = factors, iterations = epochs)\n",
    "    model.fit(train.transpose())\n",
    "    toc = time.time()\n",
    "    print(\"ALS training cost %.2f seconds\" % (toc - tic))\n",
    "    \n",
    "    if eva:\n",
    "        eva_test = evaluate_point_wise_model(model, plays, test, num_test_users)\n",
    "        print(\"User auc mean = %.2f, std = %.2f (on testing dataset)\" % (eva_test.mean(), eva_test.std()))\n",
    "    return model"
   ]
  },
  {
   "cell_type": "code",
   "execution_count": 188,
   "metadata": {},
   "outputs": [
    {
     "name": "stderr",
     "output_type": "stream",
     "text": [
      "WARNING:root:OpenBLAS detected. Its highly recommend to set the environment variable 'export OPENBLAS_NUM_THREADS=1' to disable its internal multithreading\n"
     ]
    },
    {
     "name": "stdout",
     "output_type": "stream",
     "text": [
      "ALS training cost 5.95 seconds\n",
      "User auc mean = 0.50, std = 0.23 (on testing dataset)\n"
     ]
    }
   ],
   "source": [
    "model2 = train_point_wise_model_and_evaluate(train_mat, plays, test_mat, factors = 50, epochs = 100, num_test_users = 1000)"
   ]
  },
  {
   "cell_type": "code",
   "execution_count": null,
   "metadata": {},
   "outputs": [],
   "source": [
    "model1 = train_pair_wise_model_and_evaluate(plays, test = None, factors = 100, epochs = 100, eva = False)"
   ]
  },
  {
   "cell_type": "code",
   "execution_count": 74,
   "metadata": {},
   "outputs": [
    {
     "name": "stderr",
     "output_type": "stream",
     "text": [
      "WARNING:root:OpenBLAS detected. Its highly recommend to set the environment variable 'export OPENBLAS_NUM_THREADS=1' to disable its internal multithreading\n"
     ]
    },
    {
     "name": "stdout",
     "output_type": "stream",
     "text": [
      "ALS training cost 89.32 seconds\n"
     ]
    }
   ],
   "source": [
    "model2 = train_point_wise_model_and_evaluate(plays, factors = 100, epochs = 100, eva = False)"
   ]
  },
  {
   "cell_type": "code",
   "execution_count": null,
   "metadata": {
    "collapsed": true
   },
   "outputs": [],
   "source": [
    "class Recommender(object):\n",
    "    def __init__(self, models = {}, plays = None, artists = None):\n",
    "        self.models = models\n",
    "        self.plays = plays\n",
    "        self.artists = artists\n",
    "        self.artistsDict = None\n",
    "        if artists:\n",
    "            index, names = zip(*list(enumerate(self.artists)))\n",
    "            self.artistsDict = dict(zip(names, index))\n",
    "        \n",
    "    def recommend(self, userid, modelname = 'bpr', top = 10):\n",
    "        if modelname not in self.models:\n",
    "            return []\n",
    "        \n",
    "        recommend_list = []\n",
    "        if modelname == 'bpr':\n",
    "            recommend_list = self._recommend_with_bpr(userid, top)\n",
    "        elif modelname == 'als':\n",
    "            recommend_list = self._recommend_with_als(userid, top)\n",
    "        \n",
    "        return self._output_more(userid, None, recommend_list)\n",
    "    \n",
    "    def similar_items(self, artist_name, top = 10):\n",
    "        if artist_name not in self.artistsDict:\n",
    "            return {}\n",
    "        itemid = self.artistsDict[artist_name]\n",
    "        model = self.models['als']\n",
    "        similar_items = model.similar_items(itemid, top) \n",
    "        return self._output_more(None, itemid, similar_items)\n",
    "    \n",
    "    def _recommend_with_bpr(self, userid, top):\n",
    "        \"\"\"\n",
    "        compute recommendation for user\n",
    "        \"\"\"\n",
    "        model = self.models['bpr']\n",
    "        item_factors = model.get_item_representations()\n",
    "        user_factors = model.get_user_representations()\n",
    "        item_factors = np.c_[item_factors[1], item_factors[0]]\n",
    "        user_factors = np.c_[user_factors[1], user_factors[0]]\n",
    "        scores = np.dot(user_factors[userid], item_factors.transpose())\n",
    "        items = range(item_factors.shape[0])\n",
    "        \n",
    "        \"\"\"\n",
    "        filter the items the user has consumed. \n",
    "        \"\"\"\n",
    "        sorted_items = sorted(zip(items, scores), key = lambda x : x[1], reverse = True)\n",
    "        history = set(self.plays.getrow(2).indices)\n",
    "        \n",
    "        recommendations = []\n",
    "        for item in sorted_items:\n",
    "            if item[0] in history:\n",
    "                continue\n",
    "            recommendations.append(item)\n",
    "            if len(recommendations) == top:\n",
    "                break\n",
    "        return recommendations\n",
    "    \n",
    "    def _recommend_with_als(self, userid, top):\n",
    "        model = self.models['als']\n",
    "        return model.recommend(userid, self.plays, N = top)\n",
    "    \n",
    "    def _output_more(self, userid, itemid, item_list):\n",
    "        userinfo = []\n",
    "        output_iteminfo = []\n",
    "        input_iteminfo = []\n",
    "        if userid:\n",
    "            userinfo = self._output_user_more_info(userid)\n",
    "        if item_list:\n",
    "            output_iteminfo = self._output_items_more_info(item_list)\n",
    "        if itemid:\n",
    "            input_iteminfo = self._output_items_more_info([(itemid, 1)])\n",
    "        return {'user': userinfo, 'item':input_iteminfo, 'items': output_iteminfo}\n",
    "    \n",
    "    def _output_user_more_info(self, userid):\n",
    "        history = self.artists[self.plays.getrow(userid).indices]\n",
    "        playcount = self.plays.getrow(userid).data\n",
    "        \n",
    "        return list(zip(history, playcount))\n",
    "    \n",
    "    def _output_items_more_info(self, items):\n",
    "        itemids, scores = zip(*items)\n",
    "        iteminfo = self.artists[list(itemids)]\n",
    "        return list(zip(iteminfo, scores))"
   ]
  },
  {
   "cell_type": "code",
   "execution_count": 88,
   "metadata": {},
   "outputs": [],
   "source": [
    "recommender = Recommender({'bpr': model1, 'als':model2}, plays.tocsr(), data.artist.cat.categories)"
   ]
  },
  {
   "cell_type": "code",
   "execution_count": 111,
   "metadata": {},
   "outputs": [
    {
     "data": {
      "text/plain": [
       "{'item': [],\n",
       " 'items': [('chris brown', 4.6462021),\n",
       "  ('ne-yo', 4.5142355),\n",
       "  ('the pussycat dolls', 4.4670238),\n",
       "  ('jordin sparks', 4.3777504),\n",
       "  ('ciara', 4.3308463),\n",
       "  ('danity kane', 4.2887182),\n",
       "  ('all time low', 4.286067),\n",
       "  ('a day to remember', 4.2578568),\n",
       "  ('ashley tisdale', 4.2392902),\n",
       "  ('hilary duff', 4.1141906)],\n",
       " 'user': [('2pm', 18.0),\n",
       "  ('98 degrees', 11.0),\n",
       "  ('all 4 one', 3.0),\n",
       "  ('big bang', 102.0),\n",
       "  ('blue', 7.0),\n",
       "  ('boa', 6.0),\n",
       "  ('brian mcnight', 5.0),\n",
       "  ('brown eyed girls', 43.0),\n",
       "  ('chin', 2.0),\n",
       "  ('def tech', 3.0),\n",
       "  ('golf-mike', 165.0),\n",
       "  ('jay chou', 57.0),\n",
       "  ('jewelry', 9.0),\n",
       "  ('kara', 28.0),\n",
       "  ('lim jung hee', 2.0),\n",
       "  ('mariah carey', 11.0),\n",
       "  ('orange range', 22.0),\n",
       "  ('shinee', 43.0),\n",
       "  ('smtown', 4.0),\n",
       "  ('ss501', 3.0),\n",
       "  ('super junior', 42.0),\n",
       "  ('super junior m', 22.0),\n",
       "  ('taku iwasaki', 3.0),\n",
       "  ('wada kouji', 35.0),\n",
       "  ('ไอซ์ ศรัณยู', 14.0),\n",
       "  ('동방신기', 175.0),\n",
       "  ('믹키유천', 10.0),\n",
       "  ('비', 5.0),\n",
       "  ('소녀시대', 186.0),\n",
       "  ('영웅재중', 15.0),\n",
       "  ('이효리', 14.0)]}"
      ]
     },
     "execution_count": 111,
     "metadata": {},
     "output_type": "execute_result"
    }
   ],
   "source": [
    "recommendation1 = recommender.recommend(87120, modelname='bpr')\n",
    "recommendation2 = recommender.recommend(87120, modelname='als')"
   ]
  },
  {
   "cell_type": "code",
   "execution_count": 116,
   "metadata": {},
   "outputs": [
    {
     "data": {
      "text/plain": [
       "{'item': [('동방신기', 1)],\n",
       " 'items': [('동방신기', 1.0000000000000002),\n",
       "  ('super junior', 0.99441452243596229),\n",
       "  ('shoujo lolita 23q', 0.98569538147384261),\n",
       "  ('duke 듀크', 0.97972346457582726),\n",
       "  ('ayumi hamasaki', 0.9787968827628587),\n",
       "  ('se7en', 0.97763852248927019),\n",
       "  ('kat-tun', 0.97714908512757037),\n",
       "  ('Ｐ’ＵＮＫ～ＥＮ～ＣＩＥＬ', 0.97542793979118014),\n",
       "  ('news', 0.97522034593182794),\n",
       "  ('trinití', 0.97389688123598783),\n",
       "  ('micky', 0.97202826714271406),\n",
       "  ('morikawa toshiyuki', 0.9692017185374735),\n",
       "  ('anson hu (胡彦斌)', 0.96816953049726706),\n",
       "  ('abe mao (阿部真央)', 0.96754087862429672),\n",
       "  ('ｂｉｓ', 0.96679765586453303),\n",
       "  ('[¸áąÂÁ÷] flytothesky 3Áý', 0.9661531460322027),\n",
       "  ('예성', 0.96555176734572878),\n",
       "  ('sophie ellis bextor', 0.96461654437179079),\n",
       "  ('nana kitade', 0.964551143832589),\n",
       "  ('[Ä·ÇÁmp3]ÀÌÁ¤Çö3Áý', 0.96420082429624487),\n",
       "  ('porno graffitti', 0.96401613192446423),\n",
       "  ('???;??', 0.96398236034751794),\n",
       "  ('epik high', 0.96372563928268018),\n",
       "  ('cheb mami feat. zaho', 0.96269300358238863),\n",
       "  ('shinee', 0.96214313784234584),\n",
       "  ('tenimyu', 0.9610972206746784),\n",
       "  ('길건', 0.9609476325736318),\n",
       "  ('mc 몽', 0.96047657352482729),\n",
       "  ('rocket diary', 0.96045300721350446),\n",
       "  ('カントリー娘。', 0.96030017862728778),\n",
       "  ('kingtiger', 0.95988250285329957),\n",
       "  ('2girlz', 0.95891639868138656),\n",
       "  ('나무자전거', 0.95876765016186716),\n",
       "  ('r.e.m', 0.95830138147559552),\n",
       "  ('이현지', 0.95798994385424308),\n",
       "  ('dan truong', 0.95798684732494199),\n",
       "  ('turkin brakes', 0.95782453405519019),\n",
       "  ('alana d.', 0.95770157887560137),\n",
       "  ('tackey & tsubasa', 0.95765239861176477),\n",
       "  ('the asteroid galaxy tour', 0.9573289207576845),\n",
       "  ('fukuda saki', 0.95595171432971937),\n",
       "  ('ss501', 0.95579983380148026),\n",
       "  ('acchorike', 0.95528010157144805),\n",
       "  ('f.i.r.', 0.95510279204742177),\n",
       "  ('周杰倫', 0.95449197473750347),\n",
       "  ('애니밴드', 0.9540921611854617),\n",
       "  ('s.h.e', 0.95353076908841583),\n",
       "  ('소녀시대', 0.95284078572321129),\n",
       "  ('kingdom hearts', 0.95185165411451744),\n",
       "  ('sarah hudson', 0.95167183233283392),\n",
       "  ('koda kumi & boa', 0.9514869858087901),\n",
       "  ('my lucina', 0.95126513055469486),\n",
       "  ('kary ng', 0.95122021666237644),\n",
       "  ('chamy. ishi, rei kondoh, taiki endo, yasutaka hatade, satoshi miyashita',\n",
       "   0.95095945129949255),\n",
       "  ('언터쳐블', 0.95084489755871182),\n",
       "  ('donawhale (도나웨일)', 0.95062012686948083),\n",
       "  ('爱乐团', 0.95048098500751621),\n",
       "  ('hoobastank [www.multi-mp3.com]', 0.95042499279898052),\n",
       "  ('big bang', 0.95041895243517738),\n",
       "  ('lee hom wang', 0.95037850544390567),\n",
       "  ('koda kumi', 0.94994853492748266),\n",
       "  ('비', 0.94979363146700102),\n",
       "  ('craig richey', 0.94977164561406169),\n",
       "  ('carrchy', 0.9491085148698416),\n",
       "  ('little', 0.94901786859141257),\n",
       "  ('the top 100 masterpieces of classical music', 0.94883491535311193),\n",
       "  ('2pm', 0.94878528055116707),\n",
       "  ('olivia', 0.94875224210525266),\n",
       "  ('ishida yuko', 0.9486006212564384),\n",
       "  ('보아', 0.9483582477464314),\n",
       "  ('kim jae joong', 0.94806202419880603),\n",
       "  ('g-dragon (지드래곤)', 0.94804637626037913),\n",
       "  (\"georgii vasil'ev & aleksei ivashchenko\", 0.9480141122182052),\n",
       "  ('ジョンフン', 0.94798727347585343),\n",
       "  ('lee juck', 0.94794364346926951),\n",
       "  ('richard evans', 0.94723407386168745),\n",
       "  ('ishibashi yuuko', 0.9463589281880217),\n",
       "  ('ワタシメスラッグ', 0.94632954360781418),\n",
       "  ('an cafe アンティック-珈琲店-', 0.94622248982319812),\n",
       "  ('an cafe', 0.94604118717321406),\n",
       "  ('brian mcnight', 0.94587996629949367),\n",
       "  ('byakuya', 0.94572764015136457),\n",
       "  ('김현중', 0.9456608032899888),\n",
       "  ('big bang - z-degrees.net', 0.94564544027275432),\n",
       "  ('‘å’Ë ˆ¤ for trapnest', 0.94537916810339861),\n",
       "  ('alice nine./アリス九號.', 0.94536088049219524),\n",
       "  ('denise young', 0.94510434488716721),\n",
       "  ('dbsk (동방신기)', 0.94506321388009562),\n",
       "  ('梨丘いるま', 0.94453608015855584),\n",
       "  ('brace;d', 0.94446167040043183),\n",
       "  ('epik high (에픽하이)', 0.94445976509591911),\n",
       "  ('masahiro sayama', 0.94439460347532),\n",
       "  ('신화', 0.94415753501550148),\n",
       "  ('detektiv conan', 0.94404784721314794),\n",
       "  ('inoue marina', 0.94356465202497575),\n",
       "  ('venny', 0.943457828075703),\n",
       "  ('f.i.r. (\\xad飞儿乐团)', 0.94320124900346736),\n",
       "  ('8eight 에이트', 0.94315608500900461),\n",
       "  ('seo ji young', 0.94308750186184465),\n",
       "  ('saber marionette j', 0.94300285685849261)],\n",
       " 'user': []}"
      ]
     },
     "execution_count": 116,
     "metadata": {},
     "output_type": "execute_result"
    }
   ],
   "source": [
    "similar_items = recommender.similar_items('291703', 100)"
   ]
  },
  {
   "cell_type": "code",
   "execution_count": null,
   "metadata": {
    "collapsed": true
   },
   "outputs": [],
   "source": []
  }
 ],
 "metadata": {
  "kernelspec": {
   "display_name": "Python 3",
   "language": "python",
   "name": "python3"
  },
  "language_info": {
   "codemirror_mode": {
    "name": "ipython",
    "version": 3
   },
   "file_extension": ".py",
   "mimetype": "text/x-python",
   "name": "python",
   "nbconvert_exporter": "python",
   "pygments_lexer": "ipython3",
   "version": "3.6.0"
  }
 },
 "nbformat": 4,
 "nbformat_minor": 2
}
